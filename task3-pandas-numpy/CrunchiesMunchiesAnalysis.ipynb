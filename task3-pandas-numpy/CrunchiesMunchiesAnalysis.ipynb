{
 "cells": [
  {
   "cell_type": "code",
   "execution_count": 1,
   "id": "3c36acbb",
   "metadata": {},
   "outputs": [
    {
     "name": "stdout",
     "output_type": "stream",
     "text": [
      "[ 70. 120.  70.  50. 110. 110. 110. 130.  90.  90. 120. 110. 120. 110.\n",
      " 110. 110. 100. 110. 110. 110. 100. 110. 100. 100. 110. 110. 100. 120.\n",
      " 120. 110. 100. 110. 100. 110. 120. 120. 110. 110. 110. 140. 110. 100.\n",
      " 110. 100. 150. 150. 160. 100. 120. 140.  90. 130. 120. 100.  50.  50.\n",
      " 100. 100. 120. 100.  90. 110. 110.  80.  90.  90. 110. 110.  90. 110.\n",
      " 140. 100. 110. 110. 100. 100. 110.]\n"
     ]
    }
   ],
   "source": [
    "#Task 1:  Load the Data\n",
    "import numpy as np\n",
    "\n",
    "calorie_stats = np.loadtxt('cereal.csv', delimiter=',')\n",
    "print(calorie_stats)"
   ]
  },
  {
   "cell_type": "code",
   "execution_count": 2,
   "id": "7e0c4bd0",
   "metadata": {},
   "outputs": [
    {
     "name": "stdout",
     "output_type": "stream",
     "text": [
      "The average calorie count of competitors is 46.88 calories higher than CrunchieMunchies.\n"
     ]
    }
   ],
   "source": [
    "# Task 2:  Compare Average Calories\n",
    "import numpy as np\n",
    "\n",
    "average_calories = np.mean(calorie_stats) - 60\n",
    "print(f\"The average calorie count of competitors is {average_calories:.2f} calories higher than CrunchieMunchies.\")"
   ]
  },
  {
   "cell_type": "code",
   "execution_count": null,
   "id": "824c9562",
   "metadata": {},
   "outputs": [
    {
     "name": "stdout",
     "output_type": "stream",
     "text": [
      "[ 50.  50.  50.  70.  70.  80.  90.  90.  90.  90.  90.  90.  90. 100.\n",
      " 100. 100. 100. 100. 100. 100. 100. 100. 100. 100. 100. 100. 100. 100.\n",
      " 100. 100. 110. 110. 110. 110. 110. 110. 110. 110. 110. 110. 110. 110.\n",
      " 110. 110. 110. 110. 110. 110. 110. 110. 110. 110. 110. 110. 110. 110.\n",
      " 110. 110. 110. 120. 120. 120. 120. 120. 120. 120. 120. 120. 120. 130.\n",
      " 130. 140. 140. 140. 150. 150. 160.]\n"
     ]
    }
   ],
   "source": [
    "#Task 3: Sort the Data\n",
    "import numpy as np\n",
    "\n",
    "calorie_stats_sorted = np.sort(calorie_stats)\n",
    "print(calorie_stats_sorted)"
   ]
  },
  {
   "cell_type": "code",
   "execution_count": null,
   "id": "0c89bddb",
   "metadata": {},
   "outputs": [
    {
     "name": "stdout",
     "output_type": "stream",
     "text": [
      "The median calorie count is: 110.00\n"
     ]
    }
   ],
   "source": [
    "# Task 4: Calculate Median Calories\n",
    "import numpy as np\n",
    "\n",
    "median_calories = np.median(calorie_stats)\n",
    "print(f\"The median calorie count is: {median_calories:.2f}\")"
   ]
  },
  {
   "cell_type": "code",
   "execution_count": null,
   "id": "5176f148",
   "metadata": {},
   "outputs": [
    {
     "name": "stdout",
     "output_type": "stream",
     "text": [
      "The smallest percentile with more than 60 calories is: 3.90\n",
      "The value at this percentile is: 69.22\n"
     ]
    }
   ],
   "source": [
    "# Task 5: Find the Smallest Percentile with More Than 60 Calories\n",
    "import numpy as np\n",
    "\n",
    "percentile_value = 60\n",
    "nth_percentile = np.percentile(calorie_stats, np.where(calorie_stats_sorted > percentile_value)[0][0] / len(calorie_stats) * 100)\n",
    "print(f\"The smallest percentile with more than 60 calories is: {np.where(calorie_stats_sorted > percentile_value)[0][0] / len(calorie_stats) * 100:.2f}\")\n",
    "print(f\"The value at this percentile is: {nth_percentile:.2f}\")"
   ]
  },
  {
   "cell_type": "code",
   "execution_count": 6,
   "id": "77f31f4e",
   "metadata": {},
   "outputs": [
    {
     "name": "stdout",
     "output_type": "stream",
     "text": [
      "96.10% of cereals have more than 60 calories per serving.\n"
     ]
    }
   ],
   "source": [
    "# Task 6: Remove duplicate rows from a 2D array.\n",
    "import numpy as np\n",
    "\n",
    "more_calories = np.sum(calorie_stats > 60) / len(calorie_stats) * 100\n",
    "print(f\"{more_calories:.2f}% of cereals have more than 60 calories per serving.\")"
   ]
  },
  {
   "cell_type": "code",
   "execution_count": 7,
   "id": "6d2769f4",
   "metadata": {},
   "outputs": [
    {
     "name": "stdout",
     "output_type": "stream",
     "text": [
      "The standard deviation of the calorie count is: 19.36\n"
     ]
    }
   ],
   "source": [
    "#Task 7: Calculate the Standard Deviation of the Calorie Count\n",
    "import numpy as np\n",
    "calorie_std = np.std(calorie_stats)\n",
    "print(f\"The standard deviation of the calorie count is: {calorie_std:.2f}\")"
   ]
  }
 ],
 "metadata": {
  "kernelspec": {
   "display_name": "Python 3",
   "language": "python",
   "name": "python3"
  },
  "language_info": {
   "codemirror_mode": {
    "name": "ipython",
    "version": 3
   },
   "file_extension": ".py",
   "mimetype": "text/x-python",
   "name": "python",
   "nbconvert_exporter": "python",
   "pygments_lexer": "ipython3",
   "version": "3.11.9"
  }
 },
 "nbformat": 4,
 "nbformat_minor": 5
}
