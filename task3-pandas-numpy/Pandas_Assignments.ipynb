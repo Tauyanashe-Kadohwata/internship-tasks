{
 "cells": [
  {
   "cell_type": "code",
   "execution_count": 3,
   "id": "1508d803",
   "metadata": {},
   "outputs": [
    {
     "name": "stdout",
     "output_type": "stream",
     "text": [
      "--- Data Loading and Initial Inspection ---\n",
      "First 5 rows of the dataset:\n",
      "   age         workclass  fnlwgt  education  education-num  \\\n",
      "0   39         State-gov   77516  Bachelors             13   \n",
      "1   50  Self-emp-not-inc   83311  Bachelors             13   \n",
      "2   38           Private  215646    HS-grad              9   \n",
      "3   53           Private  234721       11th              7   \n",
      "4   28           Private  338409  Bachelors             13   \n",
      "\n",
      "       marital-status         occupation   relationship   race     sex  \\\n",
      "0       Never-married       Adm-clerical  Not-in-family  White    Male   \n",
      "1  Married-civ-spouse    Exec-managerial        Husband  White    Male   \n",
      "2            Divorced  Handlers-cleaners  Not-in-family  White    Male   \n",
      "3  Married-civ-spouse  Handlers-cleaners        Husband  Black    Male   \n",
      "4  Married-civ-spouse     Prof-specialty           Wife  Black  Female   \n",
      "\n",
      "   capital-gain  capital-loss  hours-per-week native-country salary  \n",
      "0          2174             0              40  United-States  <=50K  \n",
      "1             0             0              13  United-States  <=50K  \n",
      "2             0             0              40  United-States  <=50K  \n",
      "3             0             0              40  United-States  <=50K  \n",
      "4             0             0              40           Cuba  <=50K  \n",
      "\n",
      "DataFrame Information (Dtype, Non-Null Count):\n",
      "<class 'pandas.core.frame.DataFrame'>\n",
      "RangeIndex: 32561 entries, 0 to 32560\n",
      "Data columns (total 15 columns):\n",
      " #   Column          Non-Null Count  Dtype \n",
      "---  ------          --------------  ----- \n",
      " 0   age             32561 non-null  int64 \n",
      " 1   workclass       32561 non-null  object\n",
      " 2   fnlwgt          32561 non-null  int64 \n",
      " 3   education       32561 non-null  object\n",
      " 4   education-num   32561 non-null  int64 \n",
      " 5   marital-status  32561 non-null  object\n",
      " 6   occupation      32561 non-null  object\n",
      " 7   relationship    32561 non-null  object\n",
      " 8   race            32561 non-null  object\n",
      " 9   sex             32561 non-null  object\n",
      " 10  capital-gain    32561 non-null  int64 \n",
      " 11  capital-loss    32561 non-null  int64 \n",
      " 12  hours-per-week  32561 non-null  int64 \n",
      " 13  native-country  32561 non-null  object\n",
      " 14  salary          32561 non-null  object\n",
      "dtypes: int64(6), object(9)\n",
      "memory usage: 3.7+ MB\n",
      "None\n",
      "\n",
      "==================================================\n",
      "\n"
     ]
    }
   ],
   "source": [
    "import pandas as pd\n",
    "\n",
    "\n",
    "try:\n",
    "    data = pd.read_csv('adult.data.csv')\n",
    "except FileNotFoundError:\n",
    "    print(\"Error: The file 'adult.data.csv' was not found. Please ensure it's in the correct directory.\")\n",
    "    exit() \n",
    "\n",
    "data.columns = data.columns.str.strip()\n",
    "\n",
    "\n",
    "for column in data.select_dtypes(include='object').columns:\n",
    "    data[column] = data[column].str.strip()\n",
    "\n",
    "print(\"--- Data Loading and Initial Inspection ---\")\n",
    "print(\"First 5 rows of the dataset:\")\n",
    "print(data.head())\n",
    "print(\"\\nDataFrame Information (Dtype, Non-Null Count):\")\n",
    "print(data.info())\n",
    "print(\"\\n\" + \"=\"*50 + \"\\n\")"
   ]
  },
  {
   "cell_type": "code",
   "execution_count": 4,
   "id": "0635d59e",
   "metadata": {},
   "outputs": [
    {
     "name": "stdout",
     "output_type": "stream",
     "text": [
      "--- Task 1: Count of men and women ---\n",
      "Number of individuals by sex:\n",
      "sex\n",
      "Male      21790\n",
      "Female    10771\n",
      "Name: count, dtype: int64\n",
      "\n",
      "==================================================\n",
      "\n"
     ]
    }
   ],
   "source": [
    "# Task 1: Count of men and women (feature 'sex')\n",
    "print(\"--- Task 1: Count of men and women ---\")\n",
    "sex_counts = data['sex'].value_counts()\n",
    "print(\"Number of individuals by sex:\")\n",
    "print(sex_counts)\n",
    "print(\"\\n\" + \"=\"*50 + \"\\n\")\n"
   ]
  },
  {
   "cell_type": "code",
   "execution_count": 5,
   "id": "9a7794f0",
   "metadata": {},
   "outputs": [
    {
     "name": "stdout",
     "output_type": "stream",
     "text": [
      "--- Task 2: Average age of men ---\n",
      "The average age of men in the dataset is: 39.43 years\n",
      "\n",
      "==================================================\n",
      "\n"
     ]
    }
   ],
   "source": [
    "# Task 2: Average age of men (feature 'age')\n",
    "print(\"--- Task 2: Average age of men ---\")\n",
    "# Filter the DataFrame for 'Male' sex and then calculate the mean of 'age'.\n",
    "average_age_men = data[data['sex'] == 'Male']['age'].mean()\n",
    "print(f\"The average age of men in the dataset is: {average_age_men:.2f} years\")\n",
    "print(\"\\n\" + \"=\"*50 + \"\\n\")\n"
   ]
  },
  {
   "cell_type": "code",
   "execution_count": 6,
   "id": "5c6b7822",
   "metadata": {},
   "outputs": [
    {
     "name": "stdout",
     "output_type": "stream",
     "text": [
      "--- Task 3: Proportion of United States citizens ---\n",
      "The proportion of United States citizens in the dataset is: 0.90\n",
      "\n",
      "==================================================\n",
      "\n"
     ]
    }
   ],
   "source": [
    "# Task 3: Proportion of United States citizens (feature 'native-country')\n",
    "print(\"--- Task 3: Proportion of United States citizens ---\")\n",
    "total_citizens = len(data) # Total number of rows/individuals in the dataset.\n",
    "# Count individuals whose 'native-country' is 'United-States'.\n",
    "us_citizens = (data['native-country'] == 'United-States').sum()\n",
    "us_proportion = us_citizens / total_citizens # Calculate the proportion.\n",
    "print(f\"The proportion of United States citizens in the dataset is: {us_proportion:.2f}\")\n",
    "print(\"\\n\" + \"=\"*50 + \"\\n\")"
   ]
  },
  {
   "cell_type": "code",
   "execution_count": 7,
   "id": "980af0d6",
   "metadata": {},
   "outputs": [
    {
     "name": "stdout",
     "output_type": "stream",
     "text": [
      "--- Task 4-5: Age statistics for high and low earners ---\n",
      "Average age and standard deviation for salary groups:\n",
      "             mean        std\n",
      "salary                      \n",
      "<=50K   36.783738  14.020088\n",
      ">50K    44.249841  10.519028\n",
      "\n",
      "==================================================\n",
      "\n"
     ]
    }
   ],
   "source": [
    "# Task 4-5: Calculate mean and standard deviation of age for those earning >50K and <=50K (feature 'salary')\n",
    "print(\"--- Task 4-5: Age statistics for high and low earners ---\")\n",
    "# Group by 'salary' and then apply 'mean' and 'std' aggregations to the 'age' column.\n",
    "salary_age_stats = data.groupby('salary')['age'].agg(['mean', 'std'])\n",
    "print(\"Average age and standard deviation for salary groups:\")\n",
    "print(salary_age_stats)\n",
    "print(\"\\n\" + \"=\"*50 + \"\\n\")"
   ]
  },
  {
   "cell_type": "code",
   "execution_count": 8,
   "id": "5ef35a88",
   "metadata": {},
   "outputs": [
    {
     "name": "stdout",
     "output_type": "stream",
     "text": [
      "--- Task 6: Do high earners have higher education? ---\n",
      "Is it true that all high earners have at least a higher education? False\n",
      "Note: 'True' means *all* satisfy the condition; 'False' means at least one does not.\n",
      "\n",
      "==================================================\n",
      "\n"
     ]
    }
   ],
   "source": [
    "# Task 6: Check if people earning >50K have at least a higher education\n",
    "# (features 'education' and 'salary')\n",
    "print(\"--- Task 6: Do high earners have higher education? ---\")\n",
    "high_earners = data[data['salary'] == '>50K']\n",
    "# Define the list of higher education levels as per the assignment description.\n",
    "higher_education_levels = ['Bachelors', 'Prof-school', 'Assoc-acdm', 'Assoc-voc', 'Masters', 'Doctorate']\n",
    "# Check if ALL high earners' education is within the defined higher_education_levels.\n",
    "all_higher_education = high_earners['education'].isin(higher_education_levels).all()\n",
    "print(f\"Is it true that all high earners have at least a higher education? {all_higher_education}\")\n",
    "print(\"Note: 'True' means *all* satisfy the condition; 'False' means at least one does not.\")\n",
    "print(\"\\n\" + \"=\"*50 + \"\\n\")\n"
   ]
  },
  {
   "cell_type": "code",
   "execution_count": 9,
   "id": "4b33decf",
   "metadata": {},
   "outputs": [
    {
     "name": "stdout",
     "output_type": "stream",
     "text": [
      "--- Task 7: Age statistics by race and sex ---\n",
      "Age statistics grouped by race and sex:\n",
      "                             count       mean        std   min   25%   50%  \\\n",
      "race               sex                                                       \n",
      "Amer-Indian-Eskimo Female    119.0  37.117647  13.114991  17.0  27.0  36.0   \n",
      "                   Male      192.0  37.208333  12.049563  17.0  28.0  35.0   \n",
      "Asian-Pac-Islander Female    346.0  35.089595  12.300845  17.0  25.0  33.0   \n",
      "                   Male      693.0  39.073593  12.883944  18.0  29.0  37.0   \n",
      "Black              Female   1555.0  37.854019  12.637197  17.0  28.0  37.0   \n",
      "                   Male     1569.0  37.682600  12.882612  17.0  27.0  36.0   \n",
      "Other              Female    109.0  31.678899  11.631599  17.0  23.0  29.0   \n",
      "                   Male      162.0  34.654321  11.355531  17.0  26.0  32.0   \n",
      "White              Female   8642.0  36.811618  14.329093  17.0  25.0  35.0   \n",
      "                   Male    19174.0  39.652498  13.436029  17.0  29.0  38.0   \n",
      "\n",
      "                             75%   max  \n",
      "race               sex                  \n",
      "Amer-Indian-Eskimo Female  46.00  80.0  \n",
      "                   Male    45.00  82.0  \n",
      "Asian-Pac-Islander Female  43.75  75.0  \n",
      "                   Male    46.00  90.0  \n",
      "Black              Female  46.00  90.0  \n",
      "                   Male    46.00  90.0  \n",
      "Other              Female  39.00  74.0  \n",
      "                   Male    42.00  77.0  \n",
      "White              Female  46.00  90.0  \n",
      "                   Male    49.00  90.0  \n",
      "\n",
      "Maximum age of men of Asian-Pac-Islander race: 90\n",
      "\n",
      "==================================================\n",
      "\n"
     ]
    }
   ],
   "source": [
    "# Task 7: Age statistics for each race and sex using groupby and describe.\n",
    "# Find the maximum age of men of 'Asian-Pac-Islander' race.\n",
    "print(\"--- Task 7: Age statistics by race and sex ---\")\n",
    "# Group by 'race' and 'sex' and then use .describe() on the 'age' column\n",
    "age_stats_by_race_sex = data.groupby(['race', 'sex'])['age'].describe()\n",
    "print(\"Age statistics grouped by race and sex:\")\n",
    "print(age_stats_by_race_sex)\n",
    "# Access the maximum age for 'Asian-Pac-Islander' males using .loc\n",
    "max_age_asian_male = age_stats_by_race_sex.loc[('Asian-Pac-Islander', 'Male'), 'max']\n",
    "print(f\"\\nMaximum age of men of Asian-Pac-Islander race: {max_age_asian_male:.0f}\")\n",
    "print(\"\\n\" + \"=\"*50 + \"\\n\")\n"
   ]
  },
  {
   "cell_type": "code",
   "execution_count": 10,
   "id": "09d514de",
   "metadata": {},
   "outputs": [
    {
     "name": "stdout",
     "output_type": "stream",
     "text": [
      "--- Task 8: Proportion of high earners among married vs. single men ---\n",
      "Proportion of high earners among married men: 0.44\n",
      "Proportion of high earners among single men: 0.08\n",
      "The proportion of high earners is greater among married men.\n",
      "\n",
      "==================================================\n",
      "\n"
     ]
    }
   ],
   "source": [
    "# Task 8: Compare proportion of high earners among married vs. single men\n",
    "# (features 'marital-status', 'sex', 'salary')\n",
    "print(\"--- Task 8: Proportion of high earners among married vs. single men ---\")\n",
    "# Filter for only male individuals. Using .copy() to avoid SettingWithCopyWarning.\n",
    "male_data = data[data['sex'] == 'Male'].copy()\n",
    "# Create a simplified marital status column: 'Married' if it starts with 'Married', else 'Single'.\n",
    "male_data['marital_status_simplified'] = male_data['marital-status'].apply(\n",
    "    lambda x: 'Married' if x.startswith('Married') else 'Single'\n",
    ")\n",
    "\n",
    "# Separate married and single men.\n",
    "married_men = male_data[male_data['marital_status_simplified'] == 'Married']\n",
    "single_men = male_data[male_data['marital_status_simplified'] == 'Single']\n",
    "\n",
    "# Calculate the proportion of high earners in each group.\n",
    "proportion_married = (married_men['salary'] == '>50K').sum() / len(married_men)\n",
    "proportion_single = (single_men['salary'] == '>50K').sum() / len(single_men)\n",
    "\n",
    "print(f\"Proportion of high earners among married men: {proportion_married:.2f}\")\n",
    "print(f\"Proportion of high earners among single men: {proportion_single:.2f}\")\n",
    "\n",
    "if proportion_married > proportion_single:\n",
    "    print(\"The proportion of high earners is greater among married men.\")\n",
    "else:\n",
    "    print(\"The proportion of high earners is greater among single men.\")\n",
    "print(\"\\n\" + \"=\"*50 + \"\\n\")\n"
   ]
  },
  {
   "cell_type": "code",
   "execution_count": 11,
   "id": "70988d76",
   "metadata": {},
   "outputs": [
    {
     "name": "stdout",
     "output_type": "stream",
     "text": [
      "--- Task 9: Max hours per week, count, and high earner percentage ---\n",
      "Maximum hours per week worked by anyone: 99\n",
      "Number of people working this maximum amount of hours: 85\n",
      "Percentage of high earners among those working maximum hours: 29.41%\n",
      "\n",
      "==================================================\n",
      "\n"
     ]
    }
   ],
   "source": [
    "# Task 9: Max hours per week, count of people working max hours, and percentage of high earners among them\n",
    "# (features 'hours-per-week', 'salary')\n",
    "print(\"--- Task 9: Max hours per week, count, and high earner percentage ---\")\n",
    "max_hours = data['hours-per-week'].max() # Find the maximum hours worked.\n",
    "# Count how many people work exactly the maximum hours.\n",
    "people_with_max_hours = (data['hours-per-week'] == max_hours).sum()\n",
    "# Count high earners who work the maximum hours.\n",
    "high_earners_with_max_hours = data[\n",
    "    (data['hours-per-week'] == max_hours) & (data['salary'] == '>50K')\n",
    "].shape[0]\n",
    "\n",
    "# Calculate the percentage of high earners among those working max hours.\n",
    "percent_high_earners = (high_earners_with_max_hours / people_with_max_hours) * 100\n",
    "\n",
    "print(f\"Maximum hours per week worked by anyone: {max_hours}\")\n",
    "print(f\"Number of people working this maximum amount of hours: {people_with_max_hours}\")\n",
    "print(f\"Percentage of high earners among those working maximum hours: {percent_high_earners:.2f}%\")\n",
    "print(\"\\n\" + \"=\"*50 + \"\\n\")"
   ]
  },
  {
   "cell_type": "code",
   "execution_count": 12,
   "id": "0e5b137f",
   "metadata": {},
   "outputs": [
    {
     "name": "stdout",
     "output_type": "stream",
     "text": [
      "--- Task 10: Average working hours by country and salary ---\n",
      "Average working hours per week by native country and salary level:\n",
      "salary                          <=50K       >50K\n",
      "native-country                                  \n",
      "?                           40.164760  45.547945\n",
      "Cambodia                    41.416667  40.000000\n",
      "Canada                      37.914634  45.641026\n",
      "China                       37.381818  38.900000\n",
      "Columbia                    38.684211  50.000000\n",
      "Cuba                        37.985714  42.440000\n",
      "Dominican-Republic          42.338235  47.000000\n",
      "Ecuador                     38.041667  48.750000\n",
      "El-Salvador                 36.030928  45.000000\n",
      "England                     40.483333  44.533333\n",
      "France                      41.058824  50.750000\n",
      "Germany                     39.139785  44.977273\n",
      "Greece                      41.809524  50.625000\n",
      "Guatemala                   39.360656  36.666667\n",
      "Haiti                       36.325000  42.750000\n",
      "Holand-Netherlands          40.000000        NaN\n",
      "Honduras                    34.333333  60.000000\n",
      "Hong                        39.142857  45.000000\n",
      "Hungary                     31.300000  50.000000\n",
      "India                       38.233333  46.475000\n",
      "Iran                        41.440000  47.500000\n",
      "Ireland                     40.947368  48.000000\n",
      "Italy                       39.625000  45.400000\n",
      "Jamaica                     38.239437  41.100000\n",
      "Japan                       41.000000  47.958333\n",
      "Laos                        40.375000  40.000000\n",
      "Mexico                      40.003279  46.575758\n",
      "Nicaragua                   36.093750  37.500000\n",
      "Outlying-US(Guam-USVI-etc)  41.857143        NaN\n",
      "Peru                        35.068966  40.000000\n",
      "Philippines                 38.065693  43.032787\n",
      "Poland                      38.166667  39.000000\n",
      "Portugal                    41.939394  41.500000\n",
      "Puerto-Rico                 38.470588  39.416667\n",
      "Scotland                    39.444444  46.666667\n",
      "South                       40.156250  51.437500\n",
      "Taiwan                      33.774194  46.800000\n",
      "Thailand                    42.866667  58.333333\n",
      "Trinadad&Tobago             37.058824  40.000000\n",
      "United-States               38.799127  45.505369\n",
      "Vietnam                     37.193548  39.200000\n",
      "Yugoslavia                  41.600000  49.500000\n",
      "\n",
      "==================================================\n",
      "\n"
     ]
    }
   ],
   "source": [
    "# Task 10: Average working hours by country and salary (features 'native-country', 'salary', 'hours-per-week')\n",
    "print(\"--- Task 10: Average working hours by country and salary ---\")\n",
    "# Group by 'native-country' and 'salary', then calculate the mean of 'hours-per-week'.\n",
    "# .unstack() pivots the 'salary' levels into columns for easier comparison.\n",
    "avg_hours_by_country_salary = data.groupby(['native-country', 'salary'])['hours-per-week'].mean().unstack()\n",
    "print(\"Average working hours per week by native country and salary level:\")\n",
    "print(avg_hours_by_country_salary)\n",
    "print(\"\\n\" + \"=\"*50 + \"\\n\")"
   ]
  },
  {
   "cell_type": "code",
   "execution_count": 13,
   "id": "fcda1f0a",
   "metadata": {},
   "outputs": [
    {
     "name": "stdout",
     "output_type": "stream",
     "text": [
      "--- Task 11: Create AgeGroup column ---\n",
      "First 5 rows showing 'age' and new 'AgeGroup' column:\n",
      "   age AgeGroup\n",
      "0   39    adult\n",
      "1   50    adult\n",
      "2   38    adult\n",
      "3   53    adult\n",
      "4   28    young\n",
      "\n",
      "==================================================\n",
      "\n"
     ]
    }
   ],
   "source": [
    "# Task 11: Create AgeGroup column\n",
    "# Define a function to categorize age into 'young', 'adult', 'retiree'.\n",
    "print(\"--- Task 11: Create AgeGroup column ---\")\n",
    "def age_grouper(age):\n",
    "    if 16 <= age <= 35:\n",
    "        return 'young'\n",
    "    elif 35 < age <= 70:\n",
    "        return 'adult'\n",
    "    elif 70 < age <= 100:\n",
    "        return 'retiree'\n",
    "    return 'other' # For ages outside the defined ranges (e.g., <16 or >100 if any)\n",
    "\n",
    "# Apply the function to the 'age' column to create the new 'AgeGroup' column.\n",
    "data['AgeGroup'] = data['age'].apply(age_grouper)\n",
    "print(\"First 5 rows showing 'age' and new 'AgeGroup' column:\")\n",
    "print(data[['age', 'AgeGroup']].head())\n",
    "print(\"\\n\" + \"=\"*50 + \"\\n\")"
   ]
  },
  {
   "cell_type": "code",
   "execution_count": 14,
   "id": "b2e39b01",
   "metadata": {},
   "outputs": [
    {
     "name": "stdout",
     "output_type": "stream",
     "text": [
      "--- Task 12-13: High earners by age group and most frequent group ---\n",
      "Number of high earners in each age group:\n",
      "AgeGroup\n",
      "adult      6042\n",
      "young      1705\n",
      "retiree      94\n",
      "Name: count, dtype: int64\n",
      "\n",
      "Proportion of high earners within each age group:\n",
      "AgeGroup\n",
      "adult      0.353416\n",
      "retiree    0.174074\n",
      "young      0.114238\n",
      "Name: count, dtype: float64\n",
      "\n",
      "The age group with the highest proportion of high earners is: adult\n",
      "\n",
      "==================================================\n",
      "\n"
     ]
    }
   ],
   "source": [
    "# Task 12-13: Determine high earners per age group and the group with the highest proportion\n",
    "# (features 'AgeGroup', 'salary')\n",
    "print(\"--- Task 12-13: High earners by age group and most frequent group ---\")\n",
    "# Count high earners in each newly created 'AgeGroup'.\n",
    "high_earners_by_agegroup = data[data['salary'] == '>50K']['AgeGroup'].value_counts()\n",
    "print(\"Number of high earners in each age group:\")\n",
    "print(high_earners_by_agegroup)\n",
    "\n",
    "# Count total individuals in each age group.\n",
    "total_by_agegroup = data['AgeGroup'].value_counts()\n",
    "# Calculate the proportion of high earners within each age group.\n",
    "# Sort values in descending order to easily find the highest proportion.\n",
    "proportion_high_earners = (high_earners_by_agegroup / total_by_agegroup).sort_values(ascending=False)\n",
    "print(\"\\nProportion of high earners within each age group:\")\n",
    "print(proportion_high_earners)\n",
    "\n",
    "# Identify the age group with the highest proportion of high earners.\n",
    "most_frequent_group = proportion_high_earners.idxmax()\n",
    "print(f\"\\nThe age group with the highest proportion of high earners is: {most_frequent_group}\")\n",
    "print(\"\\n\" + \"=\"*50 + \"\\n\")"
   ]
  },
  {
   "cell_type": "code",
   "execution_count": 15,
   "id": "a752da48",
   "metadata": {},
   "outputs": [
    {
     "name": "stdout",
     "output_type": "stream",
     "text": [
      "--- Task 14: Filter groups by occupation ---\n",
      "Occupations that meet the filtering criteria (average age <= 40 AND all workers work > 5 hours per week):\n",
      "occupation\n",
      "Armed-Forces    9\n",
      "Name: count, dtype: int64\n",
      "\n",
      "==================================================\n",
      "\n"
     ]
    }
   ],
   "source": [
    "# Task 14: Group by occupation and filter groups based on average age and minimum hours per week\n",
    "# (features 'occupation', 'age', 'hours-per-week')\n",
    "print(\"--- Task 14: Filter groups by occupation ---\")\n",
    "# Group the DataFrame by 'occupation'.\n",
    "grouped_by_occupation = data.groupby('occupation')\n",
    "\n",
    "# Define the filtering function.\n",
    "# This function will be applied to each group (occupation) created by groupby.\n",
    "def filter_func(group):\n",
    "    avg_age = group['age'].mean() # Calculate the mean age for the current occupation group.\n",
    "    min_hours = group['hours-per-week'].min() # Find the minimum hours worked for the current occupation group.\n",
    "    # Return True if both conditions are met: average age <= 40 AND minimum hours > 5.\n",
    "    return avg_age <= 40 and min_hours > 5\n",
    "\n",
    "# Apply the filter function to the grouped DataFrame.\n",
    "# .filter() returns a DataFrame containing only rows from groups that pass the filter_func.\n",
    "filtered_groups_df = grouped_by_occupation.filter(filter_func)\n",
    "\n",
    "# To see which occupations were returned, count their occurrences in the filtered DataFrame.\n",
    "print(\"Occupations that meet the filtering criteria (average age <= 40 AND all workers work > 5 hours per week):\")\n",
    "# We use value_counts() on the 'occupation' column of the filtered DataFrame\n",
    "# to get a clear summary of the occupations that passed.\n",
    "print(filtered_groups_df['occupation'].value_counts())\n",
    "print(\"\\n\" + \"=\"*50 + \"\\n\")\n"
   ]
  }
 ],
 "metadata": {
  "kernelspec": {
   "display_name": "Python 3",
   "language": "python",
   "name": "python3"
  },
  "language_info": {
   "codemirror_mode": {
    "name": "ipython",
    "version": 3
   },
   "file_extension": ".py",
   "mimetype": "text/x-python",
   "name": "python",
   "nbconvert_exporter": "python",
   "pygments_lexer": "ipython3",
   "version": "3.11.9"
  }
 },
 "nbformat": 4,
 "nbformat_minor": 5
}
