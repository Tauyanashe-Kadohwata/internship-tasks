{
 "cells": [
  {
   "cell_type": "code",
   "execution_count": null,
   "id": "02ab4f75",
   "metadata": {},
   "outputs": [
    {
     "name": "stdout",
     "output_type": "stream",
     "text": [
      "Original array:\n",
      "[8 4 1 6 3 4 1 9 7 6]\n",
      "\n",
      "Modified array:\n",
      "[ 8 -4  1 -6  3 -4  1  9 -7 -6]\n"
     ]
    }
   ],
   "source": [
    "#Taskk 1: \n",
    "import numpy as np\n",
    "\n",
    "# Create a random array for demonstration\n",
    "x = np.random.randint(1, 10, size=10)\n",
    "print(\"Original array:\")\n",
    "print(x)\n",
    "\n",
    "# Change the sign of elements between 3 and 8\n",
    "x[(x > 3) & (x < 8)] *= -1\n",
    "\n",
    "print(\"\\nModified array:\")\n",
    "print(x)"
   ]
  },
  {
   "cell_type": "code",
   "execution_count": null,
   "id": "5fa0e9c0",
   "metadata": {},
   "outputs": [
    {
     "name": "stdout",
     "output_type": "stream",
     "text": [
      "Original array:\n",
      "[31 15 86 54 95 10 23 37 22 75]\n",
      "\n",
      "Modified array:\n",
      "[31 15 86 54  0 10 23 37 22 75]\n"
     ]
    }
   ],
   "source": [
    "#Task 2: Replace the maximum element of a random array with 0\n",
    "import numpy as np\n",
    "\n",
    "# Create a random array for demonstration\n",
    "x = np.random.randint(1, 100, size=10)\n",
    "print(\"Original array:\")\n",
    "print(x)\n",
    "\n",
    "# Find the index of the maximum element\n",
    "max_index = np.argmax(x)\n",
    "\n",
    "# Replace the max element with 0\n",
    "x[max_index] = 0\n",
    "\n",
    "print(\"\\nModified array:\")\n",
    "print(x)"
   ]
  },
  {
   "cell_type": "code",
   "execution_count": null,
   "id": "7ce43cc4",
   "metadata": {},
   "outputs": [
    {
     "name": "stdout",
     "output_type": "stream",
     "text": [
      "Outer product:\n",
      "[[ 4  5  6]\n",
      " [ 8 10 12]\n",
      " [12 15 18]]\n"
     ]
    }
   ],
   "source": [
    "#Task 3: Calculate the outer product of two arrays\n",
    "import numpy as np\n",
    "\n",
    "# Create two arrays for demonstration\n",
    "x = np.array([1, 2, 3])\n",
    "y = np.array([4, 5, 6])\n",
    "\n",
    "# Calculate the outer product\n",
    "outer_product = np.outer(x, y)\n",
    "\n",
    "print(\"Outer product:\")\n",
    "print(outer_product)"
   ]
  },
  {
   "cell_type": "code",
   "execution_count": 7,
   "id": "0bdb5bc3",
   "metadata": {},
   "outputs": [
    {
     "name": "stdout",
     "output_type": "stream",
     "text": [
      "Array A:\n",
      "[[4 0 0]\n",
      " [0 4 2]\n",
      " [3 0 3]\n",
      " [2 2 2]\n",
      " [1 4 3]\n",
      " [4 2 2]\n",
      " [1 4 1]\n",
      " [2 0 0]]\n",
      "\n",
      "Array B:\n",
      "[[3 0]\n",
      " [4 4]]\n",
      "\n",
      "Rows in A that contain elements from each row in B:\n",
      "[[0 4 2]\n",
      " [1 4 1]\n",
      " [1 4 3]\n",
      " [3 0 3]\n",
      " [4 0 0]\n",
      " [4 2 2]]\n"
     ]
    },
    {
     "name": "stderr",
     "output_type": "stream",
     "text": [
      "C:\\Users\\CEM\\AppData\\Local\\Temp\\ipykernel_7348\\821814479.py:20: DeprecationWarning: `in1d` is deprecated. Use `np.isin` instead.\n",
      "  if np.all(np.in1d(row_b, row_a)):\n"
     ]
    }
   ],
   "source": [
    "#Task 4: Find rows in A that contain elements from each row in B\n",
    "import numpy as np\n",
    "\n",
    "# Create sample arrays A and B\n",
    "A = np.random.randint(0, 5, size=(8, 3))\n",
    "B = np.random.randint(0, 5, size=(2, 2))\n",
    "print(\"Array A:\")\n",
    "print(A)\n",
    "print(\"\\nArray B:\")\n",
    "print(B)\n",
    "\n",
    "# Convert B rows to sorted tuples for easy comparison\n",
    "B_sorted = np.sort(B, axis=1)\n",
    "matching_rows = []\n",
    "\n",
    "for row_a in A:\n",
    "    is_match = False\n",
    "    for row_b in B_sorted:\n",
    "        # Check if all elements of sorted B row are present in sorted A row\n",
    "        if np.all(np.in1d(row_b, row_a)):\n",
    "            is_match = True\n",
    "            break\n",
    "    if is_match:\n",
    "        matching_rows.append(row_a)\n",
    "\n",
    "print(\"\\nRows in A that contain elements from each row in B:\")\n",
    "print(np.unique(matching_rows, axis=0))"
   ]
  },
  {
   "cell_type": "code",
   "execution_count": 8,
   "id": "c57c8b2b",
   "metadata": {},
   "outputs": [
    {
     "name": "stdout",
     "output_type": "stream",
     "text": [
      "Original matrix:\n",
      "[[1 2 3]\n",
      " [4 4 4]\n",
      " [5 6 7]\n",
      " [8 8 8]\n",
      " [9 9 9]\n",
      " [1 5 3]\n",
      " [4 5 6]\n",
      " [7 8 9]\n",
      " [1 1 1]\n",
      " [2 3 4]]\n",
      "\n",
      "Rows with unequal values:\n",
      "[[1 2 3]\n",
      " [5 6 7]\n",
      " [1 5 3]\n",
      " [4 5 6]\n",
      " [7 8 9]\n",
      " [2 3 4]]\n"
     ]
    }
   ],
   "source": [
    "#Task 5: From a 10x3 matrix, find rows with unequal values\n",
    "import numpy as np\n",
    "\n",
    "# Create a 10x3 matrix for demonstration\n",
    "matrix = np.array([[1, 2, 3], [4, 4, 4], [5, 6, 7], [8, 8, 8], [9, 9, 9], [1, 5, 3], [4, 5, 6], [7, 8, 9], [1, 1, 1], [2, 3, 4]])\n",
    "print(\"Original matrix:\")\n",
    "print(matrix)\n",
    "\n",
    "# Find rows where not all values are equal\n",
    "unique_rows = matrix[np.apply_along_axis(lambda x: len(np.unique(x)) > 1, 1, matrix)]\n",
    "\n",
    "print(\"\\nRows with unequal values:\")\n",
    "print(unique_rows)"
   ]
  },
  {
   "cell_type": "code",
   "execution_count": 9,
   "id": "75580994",
   "metadata": {},
   "outputs": [
    {
     "name": "stdout",
     "output_type": "stream",
     "text": [
      "Original array:\n",
      "[[1 2 3]\n",
      " [4 5 6]\n",
      " [1 2 3]\n",
      " [7 8 9]\n",
      " [4 5 6]]\n",
      "\n",
      "Array with duplicate rows removed:\n",
      "[[1 2 3]\n",
      " [4 5 6]\n",
      " [7 8 9]]\n"
     ]
    }
   ],
   "source": [
    "#Task 6: Delete duplicate rows from a 2D array\n",
    "import numpy as np\n",
    "\n",
    "# Create a 2D array with duplicate rows\n",
    "array = np.array([[1, 2, 3], [4, 5, 6], [1, 2, 3], [7, 8, 9], [4, 5, 6]])\n",
    "print(\"Original array:\")\n",
    "print(array)\n",
    "\n",
    "# Delete duplicate rows\n",
    "unique_array = np.unique(array, axis=0)\n",
    "\n",
    "print(\"\\nArray with duplicate rows removed:\")\n",
    "print(unique_array)"
   ]
  },
  {
   "cell_type": "code",
   "execution_count": 10,
   "id": "4b662735",
   "metadata": {},
   "outputs": [
    {
     "name": "stdout",
     "output_type": "stream",
     "text": [
      "Product of non-zero diagonal elements (without NumPy): 3\n"
     ]
    }
   ],
   "source": [
    "#Task 7: Calculate the product of non-zero diagonal elements of a matrix without using NumPy\n",
    "def product_of_nonzero_diagonal_no_numpy(matrix):\n",
    "    product = 1\n",
    "    for i in range(len(matrix)):\n",
    "        if matrix[i][i] != 0:\n",
    "            product *= matrix[i][i]\n",
    "    return product\n",
    "\n",
    "X = [[1, 0, 1], [2, 0, 2], [3, 0, 3]]\n",
    "print(f\"Product of non-zero diagonal elements (without NumPy): {product_of_nonzero_diagonal_no_numpy(X)}\")"
   ]
  },
  {
   "cell_type": "code",
   "execution_count": 11,
   "id": "e7f90369",
   "metadata": {},
   "outputs": [
    {
     "name": "stdout",
     "output_type": "stream",
     "text": [
      "Product of non-zero diagonal elements (with NumPy): 3\n"
     ]
    }
   ],
   "source": [
    "#Task 7: Calculate the product of non-zero diagonal elements of a matrix using NumPy\n",
    "import numpy as np\n",
    "\n",
    "X = np.array([[1, 0, 1], [2, 0, 2], [3, 0, 3]])\n",
    "diagonal_elements = np.diag(X)\n",
    "nonzero_elements = diagonal_elements[diagonal_elements != 0]\n",
    "product = np.prod(nonzero_elements)\n",
    "print(f\"Product of non-zero diagonal elements (with NumPy): {product}\")"
   ]
  },
  {
   "cell_type": "code",
   "execution_count": null,
   "id": "2d525589",
   "metadata": {},
   "outputs": [],
   "source": [
    "#Task 8: Check if two lists are the same multiset without using NumPy\n",
    "def same_multiset_no_numpy(x, y):\n",
    "    return sorted(x) == sorted(y)\n",
    "\n",
    "x = [1, 2, 2, 4]\n",
    "y = [4, 2, 1, 2]\n",
    "print(f\"Are x and y the same multiset (without NumPy)? {same_multiset_no_numpy(x, y)}\")"
   ]
  },
  {
   "cell_type": "code",
   "execution_count": 12,
   "id": "8ce9231a",
   "metadata": {},
   "outputs": [
    {
     "name": "stdout",
     "output_type": "stream",
     "text": [
      "Are x and y the same multiset (with NumPy)? True\n"
     ]
    }
   ],
   "source": [
    "#Task 8: Check if two lists are the same multiset using NumPy\n",
    "import numpy as np\n",
    "\n",
    "x = np.array([1, 2, 2, 4])\n",
    "y = np.array([4, 2, 1, 2])\n",
    "same_multiset = np.array_equal(np.sort(x), np.sort(y))\n",
    "print(f\"Are x and y the same multiset (with NumPy)? {same_multiset}\")"
   ]
  },
  {
   "cell_type": "code",
   "execution_count": 1,
   "id": "58245335",
   "metadata": {},
   "outputs": [
    {
     "name": "stdout",
     "output_type": "stream",
     "text": [
      "Maximum element after a zero (without NumPy): 5\n"
     ]
    }
   ],
   "source": [
    "#Task 9: Find the maximum element after a zero in a list without using NumPy\n",
    "def max_after_zero_no_numpy(x):\n",
    "    max_element = None\n",
    "    for i in range(1, len(x)):\n",
    "        if x[i-1] == 0:\n",
    "            if max_element is None or x[i] > max_element:\n",
    "                max_element = x[i]\n",
    "    return max_element\n",
    "\n",
    "x = [6, 2, 0, 3, 0, 0, 5, 7, 0]\n",
    "print(f\"Maximum element after a zero (without NumPy): {max_after_zero_no_numpy(x)}\")"
   ]
  },
  {
   "cell_type": "code",
   "execution_count": 2,
   "id": "c8d9c745",
   "metadata": {},
   "outputs": [
    {
     "name": "stdout",
     "output_type": "stream",
     "text": [
      "Maximum element after a zero (with NumPy): 5\n"
     ]
    }
   ],
   "source": [
    "#Task 9: Find the maximum element after a zero in a list using NumPy\n",
    "import numpy as np\n",
    "\n",
    "x = np.array([6, 2, 0, 3, 0, 0, 5, 7, 0])\n",
    "zeros_indices = np.where(x[:-1] == 0)[0]\n",
    "elements_after_zeros = x[zeros_indices + 1]\n",
    "max_element = np.max(elements_after_zeros)\n",
    "print(f\"Maximum element after a zero (with NumPy): {max_element}\")"
   ]
  },
  {
   "cell_type": "code",
   "execution_count": 3,
   "id": "e2733e4c",
   "metadata": {},
   "outputs": [
    {
     "name": "stdout",
     "output_type": "stream",
     "text": [
      "Run-length encoding (without NumPy): (Values: [2, 3, 5], Counts: [3, 3, 1])\n"
     ]
    }
   ],
   "source": [
    "#Task 10: Run-length encoding of a list without using NumPy\n",
    "def run_length_encoding_no_numpy(x):\n",
    "    if not x:\n",
    "        return [], []\n",
    "    values = []\n",
    "    counts = []\n",
    "    current_value = x[0]\n",
    "    current_count = 1\n",
    "    for i in range(1, len(x)):\n",
    "        if x[i] == current_value:\n",
    "            current_count += 1\n",
    "        else:\n",
    "            values.append(current_value)\n",
    "            counts.append(current_count)\n",
    "            current_value = x[i]\n",
    "            current_count = 1\n",
    "    values.append(current_value)\n",
    "    counts.append(current_count)\n",
    "    return values, counts\n",
    "\n",
    "x = [2, 2, 2, 3, 3, 3, 5]\n",
    "values, counts = run_length_encoding_no_numpy(x)\n",
    "print(f\"Run-length encoding (without NumPy): (Values: {values}, Counts: {counts})\")"
   ]
  },
  {
   "cell_type": "code",
   "execution_count": 4,
   "id": "f2ceacb7",
   "metadata": {},
   "outputs": [
    {
     "name": "stdout",
     "output_type": "stream",
     "text": [
      "Run-length encoding (with NumPy): (Values: [2 3 5], Counts: [3 3 1])\n"
     ]
    }
   ],
   "source": [
    "#Task 10: Run-length encoding of a list using NumPy\n",
    "import numpy as np\n",
    "\n",
    "def run_length_encoding_numpy(x):\n",
    "    x = np.array(x)\n",
    "    if not x.size:\n",
    "        return np.array([]), np.array([])\n",
    "    \n",
    "    unique_values, indices = np.unique(x, return_index=True)\n",
    "    split_indices = np.where(x[:-1] != x[1:])[0] + 1\n",
    "    counts = np.diff(np.concatenate(([0], split_indices, [len(x)])))\n",
    "    \n",
    "    return x[indices], counts\n",
    "\n",
    "x = np.array([2, 2, 2, 3, 3, 3, 5])\n",
    "values, counts = run_length_encoding_numpy(x)\n",
    "print(f\"Run-length encoding (with NumPy): (Values: {values}, Counts: {counts})\")"
   ]
  },
  {
   "cell_type": "code",
   "execution_count": 5,
   "id": "9a8142a5",
   "metadata": {},
   "outputs": [
    {
     "name": "stdout",
     "output_type": "stream",
     "text": [
      "Euclidean distance matrix (without NumPy): [[5.656854249492381, 8.48528137423857], [2.8284271247461903, 5.656854249492381]]\n"
     ]
    }
   ],
   "source": [
    "#Task 11: Calculate the Euclidean distance matrix between two sets of points without using NumPy\n",
    "def euclidean_distance_no_numpy(X, Y):\n",
    "    matrix = []\n",
    "    for x_row in X:\n",
    "        row = []\n",
    "        for y_row in Y:\n",
    "            dist_sq = sum([(x_row[i] - y_row[i])**2 for i in range(len(x_row))])\n",
    "            row.append(dist_sq**0.5)\n",
    "        matrix.append(row)\n",
    "    return matrix\n",
    "\n",
    "X = [[1, 2], [3, 4]]\n",
    "Y = [[5, 6], [7, 8]]\n",
    "print(f\"Euclidean distance matrix (without NumPy): {euclidean_distance_no_numpy(X, Y)}\")"
   ]
  },
  {
   "cell_type": "code",
   "execution_count": 6,
   "id": "f411c2c5",
   "metadata": {},
   "outputs": [
    {
     "name": "stdout",
     "output_type": "stream",
     "text": [
      "Euclidean distance matrix (manual NumPy):\n",
      "[[5.65685425 8.48528137]\n",
      " [2.82842712 5.65685425]]\n",
      "\n",
      "Euclidean distance matrix (using cdist):\n",
      "[[5.65685425 8.48528137]\n",
      " [2.82842712 5.65685425]]\n"
     ]
    }
   ],
   "source": [
    "#Task 11: Calculate the Euclidean distance matrix between two sets of points using NumPy and SciPy\n",
    "import numpy as np\n",
    "from scipy.spatial.distance import cdist\n",
    "\n",
    "X = np.array([[1, 2], [3, 4]])\n",
    "Y = np.array([[5, 6], [7, 8]])\n",
    "\n",
    "# Using a manual calculation\n",
    "distances = np.sqrt(np.sum((X[:, np.newaxis, :] - Y[np.newaxis, :, :])**2, axis=-1))\n",
    "print(\"Euclidean distance matrix (manual NumPy):\")\n",
    "print(distances)\n",
    "\n",
    "# Using scipy.spatial.distance.cdist for comparison\n",
    "cdist_distances = cdist(X, Y, 'euclidean')\n",
    "print(\"\\nEuclidean distance matrix (using cdist):\")\n",
    "print(cdist_distances)"
   ]
  }
 ],
 "metadata": {
  "kernelspec": {
   "display_name": "Python 3",
   "language": "python",
   "name": "python3"
  },
  "language_info": {
   "codemirror_mode": {
    "name": "ipython",
    "version": 3
   },
   "file_extension": ".py",
   "mimetype": "text/x-python",
   "name": "python",
   "nbconvert_exporter": "python",
   "pygments_lexer": "ipython3",
   "version": "3.11.9"
  }
 },
 "nbformat": 4,
 "nbformat_minor": 5
}
